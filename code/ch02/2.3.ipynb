{
 "cells": [
  {
   "cell_type": "markdown",
   "id": "df8c66cd",
   "metadata": {},
   "source": [
    "# 2.3.1 简单的实现"
   ]
  },
  {
   "cell_type": "code",
   "execution_count": 1,
   "id": "1c08e6fa",
   "metadata": {},
   "outputs": [],
   "source": [
    "def AND(x1, x2):\n",
    "    w1, w2, theta = 0.5, 0.5, 0.7\n",
    "    tmp = x1 * w1 + x2 * w2\n",
    "    if tmp <= theta:\n",
    "        return 0\n",
    "    elif tmp > theta:\n",
    "        return 1\n"
   ]
  },
  {
   "cell_type": "markdown",
   "id": "0acedb1f",
   "metadata": {},
   "source": [
    "# 2.3.3 使用权重和偏置的实现"
   ]
  },
  {
   "cell_type": "code",
   "execution_count": null,
   "id": "a3e82875",
   "metadata": {},
   "outputs": [],
   "source": [
    "import numpy as np\n",
    "\n",
    "# 与门\n",
    "def AND(x1, x2):\n",
    "    x = np.array(x1, x2)\n",
    "    w = np.array([0.5, 0.5])\n",
    "    b = -0.7\n",
    "    tmp = np.sum(w * x) + b\n",
    "    if tmp <= 0:\n",
    "        return 0\n",
    "    elif tmp > 0:\n",
    "        return 1\n",
    "\n",
    "# 与非门\n",
    "def NAND(x1, x2):\n",
    "    x = np.array(x1, x2)\n",
    "    w = np.array([-0.5, -0.5]) # 仅权重和偏执与AND不同！ 全部取反\n",
    "    b = 0.7\n",
    "    tmp = np.sum(w * x) + b\n",
    "    if tmp <= 0:\n",
    "        return 0\n",
    "    elif tmp > 0:\n",
    "        return 1\n",
    "\n",
    "# 或门\n",
    "def OR(x1, x2):\n",
    "    x = np.array(x1, x2)\n",
    "    w = np.array([0.5, 0.5]) # 仅权重和偏执于AND不同！ 偏执增大\n",
    "    b = -0.2\n",
    "    tmp = np.sum(w * x) + b\n",
    "    if tmp <= 0:\n",
    "        return 0\n",
    "    elif tmp > 0:\n",
    "        return 1"
   ]
  },
  {
   "cell_type": "markdown",
   "id": "d2f0cb3d",
   "metadata": {},
   "source": [
    "# 2.5 多层感知机"
   ]
  },
  {
   "cell_type": "markdown",
   "id": "06e5bc77",
   "metadata": {},
   "source": []
  }
 ],
 "metadata": {
  "kernelspec": {
   "display_name": "lab",
   "language": "python",
   "name": "python3"
  },
  "language_info": {
   "codemirror_mode": {
    "name": "ipython",
    "version": 3
   },
   "file_extension": ".py",
   "mimetype": "text/x-python",
   "name": "python",
   "nbconvert_exporter": "python",
   "pygments_lexer": "ipython3",
   "version": "3.12.12"
  }
 },
 "nbformat": 4,
 "nbformat_minor": 5
}
